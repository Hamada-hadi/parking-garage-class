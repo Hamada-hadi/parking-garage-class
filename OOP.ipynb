{
 "cells": [
  {
   "cell_type": "code",
   "execution_count": null,
   "metadata": {},
   "outputs": [],
   "source": [
    "class ParkingGarage:\n",
    "    def __init__(self, total_tickets, total_parking_spaces):\n",
    "        self.tickets = list(range(1, total_tickets + 1))\n",
    "        self.parking_spaces = list(range(1, total_parking_spaces + 1))\n",
    "        self.current_ticket = {}\n",
    "\n",
    "    def take_ticket(self):\n",
    "        if self.tickets:\n",
    "            ticket = self.tickets.pop(0)\n",
    "            parking_space = self.parking_spaces.pop(0)\n",
    "            self.current_ticket = {'ticket': ticket, 'parking_space': parking_space, 'paid': False}\n",
    "            print(f\"Ticket {ticket} issued. Park in space {parking_space}.\")\n",
    "\n",
    "    def pay_for_parking(self):\n",
    "        if 'ticket' in self.current_ticket and not self.current_ticket['paid']:\n",
    "            amount_paid = input(\"Enter the amount to pay for parking: \")\n",
    "            if amount_paid:\n",
    "                print(\"Ticket has been paid. You have 15 minutes to leave.\")\n",
    "                self.current_ticket['paid'] = True\n",
    "            else:\n",
    "                print(\"Payment unsuccessful. Ticket not paid.\")\n",
    "\n",
    "    def leave_garage(self):\n",
    "        if 'ticket' in self.current_ticket:\n",
    "            if self.current_ticket['paid']:\n",
    "                print(\"Thank you! Have a nice day.\")\n",
    "            else:\n",
    "                amount_due = input(\"Payment is pending. Please enter the amount to pay: \")\n",
    "                if amount_due:\n",
    "                    print(\"Thank you! Have a nice day.\")\n",
    "                    self.current_ticket['paid'] = True\n",
    "                else:\n",
    "                    print(\"Payment unsuccessful. Ticket not paid.\")\n",
    "        else:\n",
    "            print(\"No ticket found.\")\n",
    "\n",
    "garage = ParkingGarage(total_tickets=10, total_parking_spaces=10)\n",
    "\n",
    "while True:\n",
    "    action = input(\"What would you like to do? (take/pay/leave/quit): \").lower()\n",
    "\n",
    "    if action == 'take':\n",
    "        garage.take_ticket()\n",
    "    elif action == 'pay':\n",
    "        garage.pay_for_parking()\n",
    "    elif action == 'leave':\n",
    "        garage.leave_garage()\n",
    "    elif action == 'quit':\n",
    "        print(\"Exiting the parking garage program.\")\n",
    "        break\n",
    "    else:\n",
    "        print(\"Invalid input. Please enter 'take', 'pay', 'leave', or 'quit'.\")\n"
   ]
  }
 ],
 "metadata": {
  "kernelspec": {
   "display_name": "Python 3",
   "language": "python",
   "name": "python3"
  },
  "language_info": {
   "codemirror_mode": {
    "name": "ipython",
    "version": 3
   },
   "file_extension": ".py",
   "mimetype": "text/x-python",
   "name": "python",
   "nbconvert_exporter": "python",
   "pygments_lexer": "ipython3",
   "version": "3.11.6"
  }
 },
 "nbformat": 4,
 "nbformat_minor": 2
}
